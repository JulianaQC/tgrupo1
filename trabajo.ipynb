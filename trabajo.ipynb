{
  "cells": [
    {
      "cell_type": "markdown",
      "id": "511b864b",
      "metadata": {
        "id": "511b864b"
      },
      "source": [
        "### PRIMERA EDICION HECHA POR ARTHUR"
      ]
    },
    {
      "cell_type": "code",
      "execution_count": null,
      "id": "02bd965a",
      "metadata": {
        "id": "02bd965a",
        "outputId": "c4c0eafd-8489-4b16-a156-fcb1ff926d99"
      },
      "outputs": [
        {
          "data": {
            "text/plain": [
              "8"
            ]
          },
          "execution_count": 1,
          "metadata": {},
          "output_type": "execute_result"
        }
      ],
      "source": [
        "X=5 \n",
        "Y=3\n",
        "X+Y\n",
        "\n",
        "#Editando el archivo tgrupo1\n",
        "#Somos el grupo 1 UwU"
      ]
    },
    {
      "cell_type": "markdown",
      "id": "4701a46c",
      "metadata": {
        "id": "4701a46c"
      },
      "source": [
        "### nueva modificación\n",
        "Sigueme para más consejos"
      ]
    }
  ],
  "metadata": {
    "kernelspec": {
      "display_name": "Python 3 (ipykernel)",
      "language": "python",
      "name": "python3"
    },
    "language_info": {
      "codemirror_mode": {
        "name": "ipython",
        "version": 3
      },
      "file_extension": ".py",
      "mimetype": "text/x-python",
      "name": "python",
      "nbconvert_exporter": "python",
      "pygments_lexer": "ipython3",
      "version": "3.9.13"
    },
    "colab": {
      "provenance": []
    }
  },
  "nbformat": 4,
  "nbformat_minor": 5
}